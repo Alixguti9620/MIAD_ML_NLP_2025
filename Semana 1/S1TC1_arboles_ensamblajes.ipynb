{
 "cells": [
  {
   "cell_type": "markdown",
   "metadata": {},
   "source": [
    "![image info](https://raw.githubusercontent.com/albahnsen/MIAD_ML_and_NLP/main/images/banner_1.png)"
   ]
  },
  {
   "cell_type": "markdown",
   "metadata": {},
   "source": [
    "# Taller: Construcción e implementación de árboles de decisión y métodos de ensamblaje\n",
    "\n",
    "En este taller podrá poner en práctica los sus conocimientos sobre construcción e implementación de árboles de decisión y métodos de ensamblajes. El taller está constituido por 9 puntos, 5 relacionados con árboles de decisión (parte A) y 4 con métodos de ensamblaje (parte B)."
   ]
  },
  {
   "cell_type": "markdown",
   "metadata": {},
   "source": [
    "## Parte A - Árboles de decisión\n",
    "\n",
    "En esta parte del taller se usará el conjunto de datos de Capital Bikeshare de Kaggle, donde cada observación representa el alquiler de bicicletas durante una hora y día determinado. Para más detalles puede visitar los siguientes enlaces: [datos](https://archive.ics.uci.edu/ml/machine-learning-databases/00275/Bike-Sharing-Dataset.zip), [dicccionario de datos](https://archive.ics.uci.edu/ml/datasets/Bike+Sharing+Dataset#)."
   ]
  },
  {
   "cell_type": "markdown",
   "metadata": {},
   "source": [
    "### Datos prestamo de bicicletas"
   ]
  },
  {
   "cell_type": "code",
   "execution_count": 3,
   "metadata": {},
   "outputs": [],
   "source": [
    "import warnings\n",
    "warnings.filterwarnings('ignore')"
   ]
  },
  {
   "cell_type": "code",
   "execution_count": 84,
   "metadata": {},
   "outputs": [],
   "source": [
    "# Importación de librerías\n",
    "import matplotlib.pyplot as plt\n",
    "import pandas as pd\n",
    "import numpy as np\n",
    "from sklearn.model_selection import cross_val_score\n",
    "from sklearn.linear_model import LinearRegression\n",
    "from sklearn.tree import DecisionTreeRegressor, export_graphviz\n",
    "import statsmodels.api as sm\n",
    "from sklearn.metrics import accuracy_score, precision_score, recall_score, f1_score\n",
    "from sklearn.metrics import confusion_matrix\n",
    "from sklearn.model_selection import train_test_split\n",
    "from sklearn.metrics import mean_squared_error, mean_absolute_error, r2_score\n",
    "from sklearn.tree import DecisionTreeClassifier\n",
    "from sklearn.linear_model import LogisticRegression\n",
    "from sklearn.preprocessing import StandardScaler\n",
    "from sklearn.pipeline import make_pipeline\n",
    "from sklearn.model_selection import GridSearchCV\n",
    "from sklearn.utils import resample\n",
    "from sklearn import metrics"
   ]
  },
  {
   "cell_type": "code",
   "execution_count": 5,
   "metadata": {},
   "outputs": [
    {
     "data": {
      "text/html": [
       "<div>\n",
       "<style scoped>\n",
       "    .dataframe tbody tr th:only-of-type {\n",
       "        vertical-align: middle;\n",
       "    }\n",
       "\n",
       "    .dataframe tbody tr th {\n",
       "        vertical-align: top;\n",
       "    }\n",
       "\n",
       "    .dataframe thead th {\n",
       "        text-align: right;\n",
       "    }\n",
       "</style>\n",
       "<table border=\"1\" class=\"dataframe\">\n",
       "  <thead>\n",
       "    <tr style=\"text-align: right;\">\n",
       "      <th></th>\n",
       "      <th>season</th>\n",
       "      <th>holiday</th>\n",
       "      <th>workingday</th>\n",
       "      <th>weather</th>\n",
       "      <th>temp</th>\n",
       "      <th>atemp</th>\n",
       "      <th>humidity</th>\n",
       "      <th>windspeed</th>\n",
       "      <th>casual</th>\n",
       "      <th>registered</th>\n",
       "      <th>total</th>\n",
       "      <th>hour</th>\n",
       "    </tr>\n",
       "    <tr>\n",
       "      <th>datetime</th>\n",
       "      <th></th>\n",
       "      <th></th>\n",
       "      <th></th>\n",
       "      <th></th>\n",
       "      <th></th>\n",
       "      <th></th>\n",
       "      <th></th>\n",
       "      <th></th>\n",
       "      <th></th>\n",
       "      <th></th>\n",
       "      <th></th>\n",
       "      <th></th>\n",
       "    </tr>\n",
       "  </thead>\n",
       "  <tbody>\n",
       "    <tr>\n",
       "      <th>2011-01-01 00:00:00</th>\n",
       "      <td>1</td>\n",
       "      <td>0</td>\n",
       "      <td>0</td>\n",
       "      <td>1</td>\n",
       "      <td>9.84</td>\n",
       "      <td>14.395</td>\n",
       "      <td>81</td>\n",
       "      <td>0.0</td>\n",
       "      <td>3</td>\n",
       "      <td>13</td>\n",
       "      <td>16</td>\n",
       "      <td>0</td>\n",
       "    </tr>\n",
       "    <tr>\n",
       "      <th>2011-01-01 01:00:00</th>\n",
       "      <td>1</td>\n",
       "      <td>0</td>\n",
       "      <td>0</td>\n",
       "      <td>1</td>\n",
       "      <td>9.02</td>\n",
       "      <td>13.635</td>\n",
       "      <td>80</td>\n",
       "      <td>0.0</td>\n",
       "      <td>8</td>\n",
       "      <td>32</td>\n",
       "      <td>40</td>\n",
       "      <td>1</td>\n",
       "    </tr>\n",
       "    <tr>\n",
       "      <th>2011-01-01 02:00:00</th>\n",
       "      <td>1</td>\n",
       "      <td>0</td>\n",
       "      <td>0</td>\n",
       "      <td>1</td>\n",
       "      <td>9.02</td>\n",
       "      <td>13.635</td>\n",
       "      <td>80</td>\n",
       "      <td>0.0</td>\n",
       "      <td>5</td>\n",
       "      <td>27</td>\n",
       "      <td>32</td>\n",
       "      <td>2</td>\n",
       "    </tr>\n",
       "    <tr>\n",
       "      <th>2011-01-01 03:00:00</th>\n",
       "      <td>1</td>\n",
       "      <td>0</td>\n",
       "      <td>0</td>\n",
       "      <td>1</td>\n",
       "      <td>9.84</td>\n",
       "      <td>14.395</td>\n",
       "      <td>75</td>\n",
       "      <td>0.0</td>\n",
       "      <td>3</td>\n",
       "      <td>10</td>\n",
       "      <td>13</td>\n",
       "      <td>3</td>\n",
       "    </tr>\n",
       "    <tr>\n",
       "      <th>2011-01-01 04:00:00</th>\n",
       "      <td>1</td>\n",
       "      <td>0</td>\n",
       "      <td>0</td>\n",
       "      <td>1</td>\n",
       "      <td>9.84</td>\n",
       "      <td>14.395</td>\n",
       "      <td>75</td>\n",
       "      <td>0.0</td>\n",
       "      <td>0</td>\n",
       "      <td>1</td>\n",
       "      <td>1</td>\n",
       "      <td>4</td>\n",
       "    </tr>\n",
       "  </tbody>\n",
       "</table>\n",
       "</div>"
      ],
      "text/plain": [
       "                     season  holiday  workingday  weather  temp   atemp  \\\n",
       "datetime                                                                  \n",
       "2011-01-01 00:00:00       1        0           0        1  9.84  14.395   \n",
       "2011-01-01 01:00:00       1        0           0        1  9.02  13.635   \n",
       "2011-01-01 02:00:00       1        0           0        1  9.02  13.635   \n",
       "2011-01-01 03:00:00       1        0           0        1  9.84  14.395   \n",
       "2011-01-01 04:00:00       1        0           0        1  9.84  14.395   \n",
       "\n",
       "                     humidity  windspeed  casual  registered  total  hour  \n",
       "datetime                                                                   \n",
       "2011-01-01 00:00:00        81        0.0       3          13     16     0  \n",
       "2011-01-01 01:00:00        80        0.0       8          32     40     1  \n",
       "2011-01-01 02:00:00        80        0.0       5          27     32     2  \n",
       "2011-01-01 03:00:00        75        0.0       3          10     13     3  \n",
       "2011-01-01 04:00:00        75        0.0       0           1      1     4  "
      ]
     },
     "execution_count": 5,
     "metadata": {},
     "output_type": "execute_result"
    }
   ],
   "source": [
    "# Lectura de la información de archivo .csv\n",
    "bikes = pd.read_csv('https://raw.githubusercontent.com/davidzarruk/MIAD_ML_NLP_2023/main/datasets/bikeshare.csv', index_col='datetime', parse_dates=True)\n",
    "\n",
    "# Renombrar variable \"count\" a \"total\"\n",
    "bikes.rename(columns={'count':'total'}, inplace=True)\n",
    "\n",
    "# Crear la hora como una variable \n",
    "bikes['hour'] = bikes.index.hour\n",
    "\n",
    "# Visualización de los datos\n",
    "bikes.head()"
   ]
  },
  {
   "cell_type": "markdown",
   "metadata": {},
   "source": [
    "### Punto 1 - Análisis descriptivo\n",
    "\n",
    "Ejecute las celdas 1.1 y 1.2. A partir de los resultados realice un análisis descriptivo sobre las variables \"season\" y \"hour\", escriba sus inferencias sobre los datos. Para complementar su análisis puede usar métricas como máximo, mínimo, percentiles entre otros."
   ]
  },
  {
   "cell_type": "code",
   "execution_count": 6,
   "metadata": {},
   "outputs": [
    {
     "data": {
      "text/plain": [
       "season\n",
       "1    116.343261\n",
       "2    215.251372\n",
       "3    234.417124\n",
       "4    198.988296\n",
       "Name: total, dtype: float64"
      ]
     },
     "execution_count": 6,
     "metadata": {},
     "output_type": "execute_result"
    }
   ],
   "source": [
    "# Celda 1.1\n",
    "bikes.groupby('season').total.mean()\n",
    "\n",
    "# Este es el cambio en mi codigo fuente"
   ]
  },
  {
   "cell_type": "markdown",
   "metadata": {},
   "source": [
    "### Análisis\n",
    "- Verano es la estación con mayor uso promedio de bicicletas, con 234 bicicletas por hora en promedio, probablemente por el clima cálido y días más largos.\n",
    "- Le sigue la primavera, también con un uso elevado.\n",
    "- Otoño presenta una leve caída en comparación al verano y primavera, pero aún se mantiene en un nivel alto.\n",
    "- El invierno muestra el menor uso (116 bicicletas), lo que puede estar asociado al clima frío, lluvias o nieve, que desincentivan el uso de bicicleta."
   ]
  },
  {
   "cell_type": "code",
   "execution_count": 7,
   "metadata": {
    "scrolled": true
   },
   "outputs": [
    {
     "data": {
      "text/plain": [
       "hour\n",
       "0      55.138462\n",
       "1      33.859031\n",
       "2      22.899554\n",
       "3      11.757506\n",
       "4       6.407240\n",
       "5      19.767699\n",
       "6      76.259341\n",
       "7     213.116484\n",
       "8     362.769231\n",
       "9     221.780220\n",
       "10    175.092308\n",
       "11    210.674725\n",
       "12    256.508772\n",
       "13    257.787281\n",
       "14    243.442982\n",
       "15    254.298246\n",
       "16    316.372807\n",
       "17    468.765351\n",
       "18    430.859649\n",
       "19    315.278509\n",
       "20    228.517544\n",
       "21    173.370614\n",
       "22    133.576754\n",
       "23     89.508772\n",
       "Name: total, dtype: float64"
      ]
     },
     "execution_count": 7,
     "metadata": {},
     "output_type": "execute_result"
    }
   ],
   "source": [
    "# Celda 1.2\n",
    "bikes.groupby('hour').total.mean()"
   ]
  },
  {
   "cell_type": "markdown",
   "metadata": {},
   "source": [
    "### Análisis\n",
    "Se observan dos picos diarios:\n",
    "1. Pico matutino: entre 7 a.m. y 9 a.m. (traslado al trabajo/estudio).\n",
    "2. Pico vespertino: entre 4 p.m. y 6 p.m. (regreso a casa).\n",
    "- Hay un uso moderado durante el día (10 a.m. a 3 p.m.), lo que sugiere uso recreativo o por ocio.\n",
    "- El uso es muy bajo durante la madrugada, lo cual es esperable."
   ]
  },
  {
   "cell_type": "code",
   "execution_count": 9,
   "metadata": {},
   "outputs": [
    {
     "name": "stdout",
     "output_type": "stream",
     "text": [
      "Estadísticas por estación (season):\n",
      "      season       media  mediana  maximo  minimo   p25    p75\n",
      "0   Invierno  116.343261     78.0     801       1  24.0  164.0\n",
      "1  Primavera  215.251372    172.0     873       1  49.0  321.0\n",
      "2     Verano  234.417124    195.0     977       1  68.0  347.0\n",
      "3      Otoño  198.988296    161.0     948       1  51.0  294.0\n",
      "\n",
      "Estadísticas por hora del día (hour):\n",
      "    hour       media  mediana  maximo  minimo     p25     p75\n",
      "0      0   55.138462     41.0     283       2   24.00   74.50\n",
      "1      1   33.859031     19.0     168       1   11.00   46.00\n",
      "2      2   22.899554     11.0     119       1    5.00   32.00\n",
      "3      3   11.757506      6.0      66       1    3.00   15.00\n",
      "4      4    6.407240      6.0      28       1    3.00    9.00\n",
      "5      5   19.767699     19.0      57       1    8.00   29.00\n",
      "6      6   76.259341     75.0     213       1   24.50  118.00\n",
      "7      7  213.116484    208.0     596       1   63.00  334.00\n",
      "8      8  362.769231    392.0     839       8  133.50  563.50\n",
      "9      9  221.780220    217.0     414      14  161.00  294.50\n",
      "10    10  175.092308    149.0     539      17  106.00  218.50\n",
      "11    11  210.674725    183.0     647      10  123.00  265.50\n",
      "12    12  256.508772    234.5     757       3  157.00  332.00\n",
      "13    13  257.787281    226.5     729      11  154.00  329.00\n",
      "14    14  243.442982    212.0     730      12  144.00  311.25\n",
      "15    15  254.298246    232.0     724       7  154.00  331.00\n",
      "16    16  316.372807    309.5     783      11  211.75  421.00\n",
      "17    17  468.765351    480.5     970      15  277.00  608.50\n",
      "18    18  430.859649    422.5     977      23  240.75  564.00\n",
      "19    19  315.278509    312.5     743      11  190.00  416.00\n",
      "20    20  228.517544    224.0     551      11  136.75  302.00\n",
      "21    21  173.370614    171.5     584       6  103.50  230.00\n",
      "22    22  133.576754    129.0     502       9   80.00  175.00\n",
      "23    23   89.508772     80.0     256       4   52.75  123.00\n"
     ]
    }
   ],
   "source": [
    "# Análisis descriptivo para 'season'\n",
    "season_summary = bikes.groupby('season')['total'].agg(\n",
    "    media='mean',\n",
    "    mediana='median',\n",
    "    maximo='max',\n",
    "    minimo='min',\n",
    "    p25=lambda x: x.quantile(0.25),\n",
    "    p75=lambda x: x.quantile(0.75)\n",
    ").reset_index()\n",
    "\n",
    "# Mapear los nombres de las estaciones\n",
    "season_labels = {\n",
    "    1: 'Invierno',\n",
    "    2: 'Primavera',\n",
    "    3: 'Verano',\n",
    "    4: 'Otoño'\n",
    "}\n",
    "season_summary['season'] = season_summary['season'].map(season_labels)\n",
    "\n",
    "# Análisis descriptivo para 'hour'\n",
    "hour_summary = bikes.groupby('hour')['total'].agg(\n",
    "    media='mean',\n",
    "    mediana='median',\n",
    "    maximo='max',\n",
    "    minimo='min',\n",
    "    p25=lambda x: x.quantile(0.25),\n",
    "    p75=lambda x: x.quantile(0.75)\n",
    ").reset_index()\n",
    "\n",
    "# Mostrar los resultados\n",
    "print(\"Estadísticas por estación (season):\")\n",
    "print(season_summary)\n",
    "\n",
    "print(\"\\nEstadísticas por hora del día (hour):\")\n",
    "print(hour_summary)\n"
   ]
  },
  {
   "cell_type": "markdown",
   "metadata": {},
   "source": [
    "### Análisis General:\n",
    "1. **Estacionalidad:**\n",
    "    - El uso aumenta desde invierno hasta verano, confirmando que la temperatura/clima tiene un impacto directo.\n",
    "    - Verano y primavera son clave para estrategias de promoción y expansión del servicio.\n",
    "\n",
    "2. **Picos horarios:**\n",
    "    - El sistema tiene un patrón bimodal diario: pico matutino (8 a.m.) y pico vespertino (5 p.m.).\n",
    "    - Esto indica un uso utilitario (transporte a trabajo/escuela) más que recreativo.\n",
    "\n",
    "3. **Dispersión:**\n",
    "    - Hay una gran variabilidad (rango amplio entre mínimo y máximo) en ambos casos. Esto podría indicar que otros factores (variables) que también afectan el uso.\n",
    "\n"
   ]
  },
  {
   "cell_type": "markdown",
   "metadata": {},
   "source": [
    "### Punto 2 - Análisis de gráficos\n",
    "\n",
    "Primero ejecute la celda 2.1 y asegúrese de comprender el código y el resultado. Luego, en cada una de celdas 2.2 y 2.3 escriba un código que genere una gráfica del número de bicicletas rentadas promedio para cada valor de la variable \"hour\" (hora) cuando la variable \"season\" es igual a 1 (invierno) e igual a 3 (verano), respectivamente. Analice y escriba sus hallazgos."
   ]
  },
  {
   "cell_type": "code",
   "execution_count": 10,
   "metadata": {},
   "outputs": [
    {
     "data": {
      "text/plain": [
       "<Axes: xlabel='hour'>"
      ]
     },
     "execution_count": 10,
     "metadata": {},
     "output_type": "execute_result"
    },
    {
     "data": {
      "image/png": "[encoded data removed]",
      "text/plain": [
       "<Figure size 640x480 with 1 Axes>"
      ]
     },
     "metadata": {},
     "output_type": "display_data"
    }
   ],
   "source": [
    "# Celda 2.1 - rentas promedio para cada valor de la variable \"hour\"\n",
    "bikes.groupby('hour').total.mean().plot()"
   ]
  },
  {
   "cell_type": "code",
   "execution_count": 14,
   "metadata": {},
   "outputs": [
    {
     "data": {
      "image/png": "[encoded data removed]",
      "text/plain": [
       "<Figure size 640x480 with 1 Axes>"
      ]
     },
     "metadata": {},
     "output_type": "display_data"
    }
   ],
   "source": [
    "# Celda 2.2 - \"season\"=1 escriba su código y hallazgos \n",
    "# Filtrar los datos para invierno\n",
    "winter_data = bikes[bikes['season'] == 1]\n",
    "\n",
    "# Graficar promedio de bicicletas rentadas por hora en invierno\n",
    "winter_data.groupby('hour')['total'].mean().plot()\n",
    "plt.title('Promedio de bicicletas rentadas por hora (Invierno)')\n",
    "plt.xlabel('Hora del día')\n",
    "plt.ylabel('Promedio de bicicletas')\n",
    "plt.grid(True)\n",
    "plt.show()"
   ]
  },
  {
   "cell_type": "code",
   "execution_count": 15,
   "metadata": {},
   "outputs": [
    {
     "data": {
      "image/png": "[encoded data removed]",
      "text/plain": [
       "<Figure size 640x480 with 1 Axes>"
      ]
     },
     "metadata": {},
     "output_type": "display_data"
    }
   ],
   "source": [
    "# Celda 2.3 - \"season\"=3 escriba su código y hallazgos \n",
    "# Filtrar los datos para verano\n",
    "summer_data = bikes[bikes['season'] == 3]\n",
    "\n",
    "# Graficar promedio de bicicletas rentadas por hora en verano\n",
    "summer_data.groupby('hour')['total'].mean().plot()\n",
    "plt.title('Promedio de bicicletas rentadas por hora (Verano)')\n",
    "plt.xlabel('Hora del día')\n",
    "plt.ylabel('Promedio de bicicletas')\n",
    "plt.grid(True)\n",
    "plt.show()"
   ]
  },
  {
   "cell_type": "markdown",
   "metadata": {},
   "source": [
    "### Analisis\n",
    "1. Verano tiene mayor volumen general de uso durante todo el día, especialmente en los picos.\n",
    "2. Se mantienen los dos picos característicos (8 a.m. y 5 p.m.) en ambas estaciones, pero son mucho más intensos en verano.\n",
    "3. En invierno, hay menos uso al mediodía, lo que sugiere que el uso recreativo también disminuye con el clima frío.\n",
    "4. El patrón de comportamiento diario es similar, pero la intensidad y amplitud de uso es notablemente mayor en verano, indicando:\n",
    "    - Mayor disposición a movilizarse en bicicleta.\n",
    "    - Mejores condiciones climáticas (temperatura, luz del día).\n",
    "    - Potencialmente mayor turismo o actividades recreativas."
   ]
  },
  {
   "cell_type": "markdown",
   "metadata": {},
   "source": [
    "### Punto 3 - Regresión lineal\n",
    "En la celda 3 ajuste un modelo de regresión lineal a todo el conjunto de datos, utilizando \"total\" como variable de respuesta y \"season\" y \"hour\" como las únicas variables predictoras, teniendo en cuenta que la variable \"season\" es categórica. Luego, imprima los coeficientes e interprételos. ¿Cuáles son las limitaciones de la regresión lineal en este caso?"
   ]
  },
  {
   "cell_type": "code",
   "execution_count": 20,
   "metadata": {},
   "outputs": [
    {
     "name": "stdout",
     "output_type": "stream",
     "text": [
      "<class 'pandas.core.frame.DataFrame'>\n",
      "DatetimeIndex: 10886 entries, 2011-01-01 00:00:00 to 2012-12-19 23:00:00\n",
      "Data columns (total 12 columns):\n",
      " #   Column      Non-Null Count  Dtype  \n",
      "---  ------      --------------  -----  \n",
      " 0   season      10886 non-null  int64  \n",
      " 1   holiday     10886 non-null  int64  \n",
      " 2   workingday  10886 non-null  int64  \n",
      " 3   weather     10886 non-null  int64  \n",
      " 4   temp        10886 non-null  float64\n",
      " 5   atemp       10886 non-null  float64\n",
      " 6   humidity    10886 non-null  int64  \n",
      " 7   windspeed   10886 non-null  float64\n",
      " 8   casual      10886 non-null  int64  \n",
      " 9   registered  10886 non-null  int64  \n",
      " 10  total       10886 non-null  int64  \n",
      " 11  hour        10886 non-null  int32  \n",
      "dtypes: float64(3), int32(1), int64(8)\n",
      "memory usage: 1.0 MB\n",
      "                            OLS Regression Results                            \n",
      "==============================================================================\n",
      "Dep. Variable:                  total   R-squared:                       0.223\n",
      "Model:                            OLS   Adj. R-squared:                  0.223\n",
      "Method:                 Least Squares   F-statistic:                     782.5\n",
      "Date:                Fri, 28 Mar 2025   Prob (F-statistic):               0.00\n",
      "Time:                        12:04:44   Log-Likelihood:                -70669.\n",
      "No. Observations:               10886   AIC:                         1.413e+05\n",
      "Df Residuals:                   10881   BIC:                         1.414e+05\n",
      "Df Model:                           4                                         \n",
      "Covariance Type:            nonrobust                                         \n",
      "==============================================================================\n",
      "                 coef    std err          t      P>|t|      [0.025      0.975]\n",
      "------------------------------------------------------------------------------\n",
      "const         -6.4303      4.016     -1.601      0.109     -14.302       1.442\n",
      "hour          10.5452      0.221     47.653      0.000      10.111      10.979\n",
      "season_2     100.3172      4.338     23.125      0.000      91.814     108.821\n",
      "season_3     119.4675      4.338     27.539      0.000     110.964     127.971\n",
      "season_4      84.0831      4.338     19.384      0.000      75.580      92.586\n",
      "==============================================================================\n",
      "Omnibus:                     2248.215   Durbin-Watson:                   0.479\n",
      "Prob(Omnibus):                  0.000   Jarque-Bera (JB):             4420.137\n",
      "Skew:                           1.250   Prob(JB):                         0.00\n",
      "Kurtosis:                       4.871   Cond. No.                         60.3\n",
      "==============================================================================\n",
      "\n",
      "Notes:\n",
      "[1] Standard Errors assume that the covariance matrix of the errors is correctly specified.\n"
     ]
    }
   ],
   "source": [
    "# Celda 3\n",
    "bikes.info()\n",
    "\n",
    "# Asegurar que 'season' es categórica\n",
    "bikes['season'] = bikes['season'].astype('category')\n",
    "\n",
    "# Crear variables dummies de 'season' y eliminar la primera para referencia (invierno)\n",
    "bikes_dummies = pd.get_dummies(bikes, columns=['season'], drop_first=True)\n",
    "\n",
    "# Definir variables predictoras y asegurarse que sean numéricas\n",
    "X = bikes_dummies[['hour', 'season_2', 'season_3', 'season_4']].astype(float)\n",
    "X = sm.add_constant(X)  # Agregar constante\n",
    "\n",
    "# Variable dependiente\n",
    "y = bikes_dummies['total'].astype(float)\n",
    "\n",
    "# Ajustar modelo de regresión lineal\n",
    "model = sm.OLS(y, X).fit()\n",
    "\n",
    "# Mostrar resumen del modelo\n",
    "print(model.summary())"
   ]
  },
  {
   "cell_type": "markdown",
   "metadata": {},
   "source": [
    "### Limitaciones\n",
    "1. **Relación no lineal entre hour y total:** La relación entre la hora y el número de bicicletas no es lineal, sino bimodal. El modelo lineal no puede capturar esos picos.\n",
    "2. **No incluye interacciones:** El efecto de la hora cambia según la estación. El modelo no incluye **hour * season** como interacción.\n",
    "3. **Distribución asimétrica:** l skew (asimetría) = 1.25 y kurtosis = 4.87 indican que los residuos no son normales: hay sesgo y colas largas. Esto viola supuestos de regresión lineal.\n",
    "4. **Autocorrelación:** El Durbin-Watson = 0.479 indica fuerte autocorrelación de los residuos. Es común en datos temporales como este (por hora), lo que afecta la validez del modelo.\n",
    "5. **Bajo poder predictivo (R² = 22%):** Muchas otras variables (como temperatura, clima, festivos, etc.) también afectan el uso, pero no se incluyen aún."
   ]
  },
  {
   "cell_type": "markdown",
   "metadata": {},
   "source": [
    "### Punto 4 - Árbol de decisión manual\n",
    "En la celda 4 cree un árbol de decisiones para pronosticar la variable \"total\" iterando **manualmente** sobre las variables \"hour\" y  \"season\". El árbol debe tener al menos 6 nodos finales."
   ]
  },
  {
   "cell_type": "code",
   "execution_count": 21,
   "metadata": {},
   "outputs": [
    {
     "name": "stdout",
     "output_type": "stream",
     "text": [
      "<class 'pandas.core.frame.DataFrame'>\n",
      "DatetimeIndex: 10886 entries, 2011-01-01 00:00:00 to 2012-12-19 23:00:00\n",
      "Data columns (total 14 columns):\n",
      " #   Column      Non-Null Count  Dtype  \n",
      "---  ------      --------------  -----  \n",
      " 0   holiday     10886 non-null  int64  \n",
      " 1   workingday  10886 non-null  int64  \n",
      " 2   weather     10886 non-null  int64  \n",
      " 3   temp        10886 non-null  float64\n",
      " 4   atemp       10886 non-null  float64\n",
      " 5   humidity    10886 non-null  int64  \n",
      " 6   windspeed   10886 non-null  float64\n",
      " 7   casual      10886 non-null  int64  \n",
      " 8   registered  10886 non-null  int64  \n",
      " 9   total       10886 non-null  int64  \n",
      " 10  hour        10886 non-null  int32  \n",
      " 11  season_2    10886 non-null  bool   \n",
      " 12  season_3    10886 non-null  bool   \n",
      " 13  season_4    10886 non-null  bool   \n",
      "dtypes: bool(3), float64(3), int32(1), int64(7)\n",
      "memory usage: 1009.9 KB\n"
     ]
    }
   ],
   "source": [
    "bikes_dummies.info()"
   ]
  },
  {
   "cell_type": "code",
   "execution_count": 50,
   "metadata": {},
   "outputs": [
    {
     "data": {
      "text/plain": [
       "count    10886.000000\n",
       "mean       191.574132\n",
       "std        181.144454\n",
       "min          1.000000\n",
       "25%         42.000000\n",
       "50%        145.000000\n",
       "75%        284.000000\n",
       "max        977.000000\n",
       "Name: total, dtype: float64"
      ]
     },
     "execution_count": 50,
     "metadata": {},
     "output_type": "execute_result"
    }
   ],
   "source": [
    "# Celda 4\n",
    "# Selección de variables predictoras\n",
    "X = bikes[['hour', 'season']]\n",
    "X['season'] = X['season'].astype(int)\n",
    "X\n",
    "\n",
    "# Variable objetivo\n",
    "bikes.total.describe()"
   ]
  },
  {
   "cell_type": "code",
   "execution_count": 51,
   "metadata": {},
   "outputs": [],
   "source": [
    "y = (bikes.total > 284).astype(int)"
   ]
  },
  {
   "cell_type": "code",
   "execution_count": 52,
   "metadata": {},
   "outputs": [],
   "source": [
    "# Definición de parámetros y criterios de parada\n",
    "max_depth = 6\n",
    "num_pct = 10\n",
    "max_features = None\n",
    "min_gain = 0.001"
   ]
  },
  {
   "cell_type": "code",
   "execution_count": 53,
   "metadata": {},
   "outputs": [],
   "source": [
    "# Función para calcular Gini\n",
    "def gini(y):\n",
    "    if y.shape[0] == 0:\n",
    "        return 0\n",
    "    else:\n",
    "        return 1 - (y.mean()**2 + (1 - y.mean())**2)\n",
    "\n",
    "# Función para calcular la ganancia por impureza\n",
    "def gini_impurity(X_col, y, split):\n",
    "    filter_l = X_col < split\n",
    "    y_l = y.loc[filter_l]\n",
    "    y_r = y.loc[~filter_l]\n",
    "\n",
    "    n_l = y_l.shape[0]\n",
    "    n_r = y_r.shape[0]\n",
    "\n",
    "    gini_y = gini(y)\n",
    "    gini_l = gini(y_l)\n",
    "    gini_r = gini(y_r)\n",
    "\n",
    "    gini_impurity_ = gini_y - (n_l / (n_l + n_r) * gini_l + n_r / (n_l + n_r) * gini_r)\n",
    "    return gini_impurity_\n",
    "\n",
    "# Función para encontrar el mejor split\n",
    "def best_split(X, y, num_pct=10):\n",
    "    features = range(X.shape[1])\n",
    "    best_split = [0, 0, 0]  # j, split, gain\n",
    "\n",
    "    for j in features:\n",
    "        X_col = X.iloc[:, j]\n",
    "\n",
    "        # Solo intentamos dividir si es numérica con más de 2 valores únicos\n",
    "        if pd.api.types.is_bool_dtype(X_col) or X_col.nunique() <= 2:\n",
    "            # En vez de percentiles, usamos split en True vs False\n",
    "            gain = gini_impurity(X_col.astype(int), y, 0.5)\n",
    "            if gain > best_split[2]:\n",
    "                best_split = [j, 0.5, gain]\n",
    "        else:\n",
    "            splits = np.percentile(X_col, np.arange(0, 100, 100.0 / (num_pct + 1)).tolist())\n",
    "            splits = np.unique(splits)[1:]\n",
    "\n",
    "            for split in splits:\n",
    "                gain = gini_impurity(X_col, y, split)\n",
    "                if gain > best_split[2]:\n",
    "                    best_split = [j, split, gain]\n",
    "\n",
    "    return best_split\n"
   ]
  },
  {
   "cell_type": "code",
   "execution_count": 54,
   "metadata": {},
   "outputs": [
    {
     "name": "stdout",
     "output_type": "stream",
     "text": [
      "Mejor variable: hour\n",
      "Punto de corte: 8.0\n",
      "Ganancia: 0.04115546670710496\n",
      "Tamaños: 10886 3594 7292\n",
      "Promedios: 0.24912731949292669 0.0447968836950473 0.34983543609434997\n"
     ]
    }
   ],
   "source": [
    "# Obtener mejor split\n",
    "j, split, gain = best_split(X, y, num_pct=5)\n",
    "print(\"Mejor variable:\", X.columns[j])\n",
    "print(\"Punto de corte:\", split)\n",
    "print(\"Ganancia:\", gain)\n",
    "\n",
    "# División según mejor split\n",
    "filter_l = X.iloc[:, j] < split\n",
    "y_l = y.loc[filter_l]\n",
    "y_r = y.loc[~filter_l]\n",
    "print(\"Tamaños:\", y.shape[0], y_l.shape[0], y_r.shape[0])\n",
    "print(\"Promedios:\", y.mean(), y_l.mean(), y_r.mean())"
   ]
  },
  {
   "cell_type": "code",
   "execution_count": 56,
   "metadata": {},
   "outputs": [],
   "source": [
    "# Función recursiva para construir el árbol\n",
    "def tree_grow(X, y, level=0, min_gain=0.001, max_depth=None, num_pct=10):\n",
    "    if X.shape[0] == 1:\n",
    "        return dict(y_pred=y.iloc[0], y_prob=0.5, level=level, split=-1, n_samples=1, gain=0)\n",
    "\n",
    "    j, split, gain = best_split(X, y, num_pct)\n",
    "    y_pred = int(y.mean() >= 0.5)\n",
    "    y_prob = (y.sum() + 1.0) / (y.shape[0] + 2.0)  # Corrección Laplace\n",
    "\n",
    "    tree = dict(y_pred=y_pred, y_prob=y_prob, level=level, split=-1, n_samples=X.shape[0], gain=gain)\n",
    "\n",
    "    if gain < min_gain:\n",
    "        return tree\n",
    "    if max_depth is not None and level >= max_depth:\n",
    "        return tree\n",
    "\n",
    "    filter_l = X.iloc[:, j] < split\n",
    "    X_l, y_l = X.loc[filter_l], y.loc[filter_l]\n",
    "    X_r, y_r = X.loc[~filter_l], y.loc[~filter_l]\n",
    "    tree['split'] = [j, split]\n",
    "\n",
    "    tree['sl'] = tree_grow(X_l, y_l, level + 1, min_gain=min_gain, max_depth=max_depth, num_pct=num_pct)\n",
    "    tree['sr'] = tree_grow(X_r, y_r, level + 1, min_gain=min_gain, max_depth=max_depth, num_pct=num_pct)\n",
    "\n",
    "    return tree\n",
    "\n",
    "# Función para contar nodos finales\n",
    "def count_leaves(tree):\n",
    "    if tree['split'] == -1:\n",
    "        return 1\n",
    "    return count_leaves(tree['sl']) + count_leaves(tree['sr'])"
   ]
  },
  {
   "cell_type": "code",
   "execution_count": 57,
   "metadata": {},
   "outputs": [
    {
     "name": "stdout",
     "output_type": "stream",
     "text": [
      "El árbol tiene 20 nodos finales.\n"
     ]
    }
   ],
   "source": [
    "# Construir árbol con parámetros ajustados\n",
    "tree = tree_grow(X, y, level=0, min_gain=min_gain, max_depth=max_depth, num_pct=num_pct)\n",
    "\n",
    "# Verificar número de hojas\n",
    "print(f\"El árbol tiene {count_leaves(tree)} nodos finales.\")\n"
   ]
  },
  {
   "cell_type": "code",
   "execution_count": 58,
   "metadata": {},
   "outputs": [],
   "source": [
    "# Función para hacer predicciones\n",
    "def tree_predict(X, tree, proba=False):\n",
    "    predicted = np.ones(X.shape[0])\n",
    "\n",
    "    if tree['split'] == -1:\n",
    "        return predicted * (tree['y_prob'] if proba else tree['y_pred'])\n",
    "\n",
    "    j, split = tree['split']\n",
    "    filter_l = (X.iloc[:, j] < split)\n",
    "    X_l = X.loc[filter_l]\n",
    "    X_r = X.loc[~filter_l]\n",
    "\n",
    "    if X_l.shape[0] == 0:\n",
    "        predicted[~filter_l] = tree_predict(X_r, tree['sr'], proba)\n",
    "    elif X_r.shape[0] == 0:\n",
    "        predicted[filter_l] = tree_predict(X_l, tree['sl'], proba)\n",
    "    else:\n",
    "        predicted[filter_l] = tree_predict(X_l, tree['sl'], proba)\n",
    "        predicted[~filter_l] = tree_predict(X_r, tree['sr'], proba)\n",
    "\n",
    "    return predicted"
   ]
  },
  {
   "cell_type": "code",
   "execution_count": 59,
   "metadata": {},
   "outputs": [],
   "source": [
    "# Ejecución del árbol manual\n",
    "preds = tree_predict(X, tree)"
   ]
  },
  {
   "cell_type": "code",
   "execution_count": 60,
   "metadata": {},
   "outputs": [
    {
     "name": "stdout",
     "output_type": "stream",
     "text": [
      "Accuracy:  0.8310\n",
      "Precision: 0.7250\n",
      "Recall:    0.5181\n",
      "F1 Score:  0.6043\n"
     ]
    }
   ],
   "source": [
    "accuracy_arbol_manual= accuracy_score(y, preds)\n",
    "precision_arbol_manual = precision_score(y, preds)\n",
    "recall_arbol_manual = recall_score(y, preds)\n",
    "f1_arbol_manual = f1_score(y, preds)\n",
    "\n",
    "print(f\"Accuracy:  {accuracy_arbol_manual:.4f}\")\n",
    "print(f\"Precision: {precision_arbol_manual:.4f}\")\n",
    "print(f\"Recall:    {recall_arbol_manual:.4f}\")\n",
    "print(f\"F1 Score:  {f1_arbol_manual:.4f}\")"
   ]
  },
  {
   "cell_type": "code",
   "execution_count": 61,
   "metadata": {},
   "outputs": [
    {
     "name": "stdout",
     "output_type": "stream",
     "text": [
      "Matriz de confusión:\n",
      "[[7641  533]\n",
      " [1307 1405]]\n"
     ]
    }
   ],
   "source": [
    "cm_arbol_manual = confusion_matrix(y, preds)\n",
    "print(\"Matriz de confusión:\")\n",
    "print(cm_arbol_manual)"
   ]
  },
  {
   "cell_type": "markdown",
   "metadata": {},
   "source": [
    "### Punto 5 - Árbol de decisión con librería\n",
    "En la celda 5 entrene un árbol de decisiones con la **librería sklearn**, usando las variables predictoras \"season\" y \"hour\" y calibre los parámetros que considere conveniente para obtener un mejor desempeño. Recuerde dividir los datos en conjuntos de entrenamiento y validación para esto. Comente el desempeño del modelo con alguna métrica de desempeño de modelos de regresión y compare desempeño con el modelo del punto 3."
   ]
  },
  {
   "cell_type": "code",
   "execution_count": 63,
   "metadata": {},
   "outputs": [],
   "source": [
    "# Celda 5\n",
    "# 1. Variables predictoras y objetivo\n",
    "X = bikes[['hour', 'season']]\n",
    "X['season'] = X['season'].astype(int)\n",
    "y = bikes['total']\n",
    "\n",
    "# 2. Dividir en conjunto de entrenamiento y validación\n",
    "X_train, X_val, y_train, y_val = train_test_split(X, y, test_size=0.3, random_state=42)\n"
   ]
  },
  {
   "cell_type": "code",
   "execution_count": 64,
   "metadata": {},
   "outputs": [
    {
     "data": {
      "text/html": [
       "<style>#sk-container-id-1 {\n",
       "  /* Definition of color scheme common for light and dark mode */\n",
       "  --sklearn-color-text: #000;\n",
       "  --sklearn-color-text-muted: #666;\n",
       "  --sklearn-color-line: gray;\n",
       "  /* Definition of color scheme for unfitted estimators */\n",
       "  --sklearn-color-unfitted-level-0: #fff5e6;\n",
       "  --sklearn-color-unfitted-level-1: #f6e4d2;\n",
       "  --sklearn-color-unfitted-level-2: #ffe0b3;\n",
       "  --sklearn-color-unfitted-level-3: chocolate;\n",
       "  /* Definition of color scheme for fitted estimators */\n",
       "  --sklearn-color-fitted-level-0: #f0f8ff;\n",
       "  --sklearn-color-fitted-level-1: #d4ebff;\n",
       "  --sklearn-color-fitted-level-2: #b3dbfd;\n",
       "  --sklearn-color-fitted-level-3: cornflowerblue;\n",
       "\n",
       "  /* Specific color for light theme */\n",
       "  --sklearn-color-text-on-default-background: var(--sg-text-color, var(--theme-code-foreground, var(--jp-content-font-color1, black)));\n",
       "  --sklearn-color-background: var(--sg-background-color, var(--theme-background, var(--jp-layout-color0, white)));\n",
       "  --sklearn-color-border-box: var(--sg-text-color, var(--theme-code-foreground, var(--jp-content-font-color1, black)));\n",
       "  --sklearn-color-icon: #696969;\n",
       "\n",
       "  @media (prefers-color-scheme: dark) {\n",
       "    /* Redefinition of color scheme for dark theme */\n",
       "    --sklearn-color-text-on-default-background: var(--sg-text-color, var(--theme-code-foreground, var(--jp-content-font-color1, white)));\n",
       "    --sklearn-color-background: var(--sg-background-color, var(--theme-background, var(--jp-layout-color0, #111)));\n",
       "    --sklearn-color-border-box: var(--sg-text-color, var(--theme-code-foreground, var(--jp-content-font-color1, white)));\n",
       "    --sklearn-color-icon: #878787;\n",
       "  }\n",
       "}\n",
       "\n",
       "#sk-container-id-1 {\n",
       "  color: var(--sklearn-color-text);\n",
       "}\n",
       "\n",
       "#sk-container-id-1 pre {\n",
       "  padding: 0;\n",
       "}\n",
       "\n",
       "#sk-container-id-1 input.sk-hidden--visually {\n",
       "  border: 0;\n",
       "  clip: rect(1px 1px 1px 1px);\n",
       "  clip: rect(1px, 1px, 1px, 1px);\n",
       "  height: 1px;\n",
       "  margin: -1px;\n",
       "  overflow: hidden;\n",
       "  padding: 0;\n",
       "  position: absolute;\n",
       "  width: 1px;\n",
       "}\n",
       "\n",
       "#sk-container-id-1 div.sk-dashed-wrapped {\n",
       "  border: 1px dashed var(--sklearn-color-line);\n",
       "  margin: 0 0.4em 0.5em 0.4em;\n",
       "  box-sizing: border-box;\n",
       "  padding-bottom: 0.4em;\n",
       "  background-color: var(--sklearn-color-background);\n",
       "}\n",
       "\n",
       "#sk-container-id-1 div.sk-container {\n",
       "  /* jupyter's `normalize.less` sets `[hidden] { display: none; }`\n",
       "     but bootstrap.min.css set `[hidden] { display: none !important; }`\n",
       "     so we also need the `!important` here to be able to override the\n",
       "     default hidden behavior on the sphinx rendered scikit-learn.org.\n",
       "     See: https://github.com/scikit-learn/scikit-learn/issues/21755 */\n",
       "  display: inline-block !important;\n",
       "  position: relative;\n",
       "}\n",
       "\n",
       "#sk-container-id-1 div.sk-text-repr-fallback {\n",
       "  display: none;\n",
       "}\n",
       "\n",
       "div.sk-parallel-item,\n",
       "div.sk-serial,\n",
       "div.sk-item {\n",
       "  /* draw centered vertical line to link estimators */\n",
       "  background-image: linear-gradient(var(--sklearn-color-text-on-default-background), var(--sklearn-color-text-on-default-background));\n",
       "  background-size: 2px 100%;\n",
       "  background-repeat: no-repeat;\n",
       "  background-position: center center;\n",
       "}\n",
       "\n",
       "/* Parallel-specific style estimator block */\n",
       "\n",
       "#sk-container-id-1 div.sk-parallel-item::after {\n",
       "  content: \"\";\n",
       "  width: 100%;\n",
       "  border-bottom: 2px solid var(--sklearn-color-text-on-default-background);\n",
       "  flex-grow: 1;\n",
       "}\n",
       "\n",
       "#sk-container-id-1 div.sk-parallel {\n",
       "  display: flex;\n",
       "  align-items: stretch;\n",
       "  justify-content: center;\n",
       "  background-color: var(--sklearn-color-background);\n",
       "  position: relative;\n",
       "}\n",
       "\n",
       "#sk-container-id-1 div.sk-parallel-item {\n",
       "  display: flex;\n",
       "  flex-direction: column;\n",
       "}\n",
       "\n",
       "#sk-container-id-1 div.sk-parallel-item:first-child::after {\n",
       "  align-self: flex-end;\n",
       "  width: 50%;\n",
       "}\n",
       "\n",
       "#sk-container-id-1 div.sk-parallel-item:last-child::after {\n",
       "  align-self: flex-start;\n",
       "  width: 50%;\n",
       "}\n",
       "\n",
       "#sk-container-id-1 div.sk-parallel-item:only-child::after {\n",
       "  width: 0;\n",
       "}\n",
       "\n",
       "/* Serial-specific style estimator block */\n",
       "\n",
       "#sk-container-id-1 div.sk-serial {\n",
       "  display: flex;\n",
       "  flex-direction: column;\n",
       "  align-items: center;\n",
       "  background-color: var(--sklearn-color-background);\n",
       "  padding-right: 1em;\n",
       "  padding-left: 1em;\n",
       "}\n",
       "\n",
       "\n",
       "/* Toggleable style: style used for estimator/Pipeline/ColumnTransformer box that is\n",
       "clickable and can be expanded/collapsed.\n",
       "- Pipeline and ColumnTransformer use this feature and define the default style\n",
       "- Estimators will overwrite some part of the style using the `sk-estimator` class\n",
       "*/\n",
       "\n",
       "/* Pipeline and ColumnTransformer style (default) */\n",
       "\n",
       "#sk-container-id-1 div.sk-toggleable {\n",
       "  /* Default theme specific background. It is overwritten whether we have a\n",
       "  specific estimator or a Pipeline/ColumnTransformer */\n",
       "  background-color: var(--sklearn-color-background);\n",
       "}\n",
       "\n",
       "/* Toggleable label */\n",
       "#sk-container-id-1 label.sk-toggleable__label {\n",
       "  cursor: pointer;\n",
       "  display: flex;\n",
       "  width: 100%;\n",
       "  margin-bottom: 0;\n",
       "  padding: 0.5em;\n",
       "  box-sizing: border-box;\n",
       "  text-align: center;\n",
       "  align-items: start;\n",
       "  justify-content: space-between;\n",
       "  gap: 0.5em;\n",
       "}\n",
       "\n",
       "#sk-container-id-1 label.sk-toggleable__label .caption {\n",
       "  font-size: 0.6rem;\n",
       "  font-weight: lighter;\n",
       "  color: var(--sklearn-color-text-muted);\n",
       "}\n",
       "\n",
       "#sk-container-id-1 label.sk-toggleable__label-arrow:before {\n",
       "  /* Arrow on the left of the label */\n",
       "  content: \"▸\";\n",
       "  float: left;\n",
       "  margin-right: 0.25em;\n",
       "  color: var(--sklearn-color-icon);\n",
       "}\n",
       "\n",
       "#sk-container-id-1 label.sk-toggleable__label-arrow:hover:before {\n",
       "  color: var(--sklearn-color-text);\n",
       "}\n",
       "\n",
       "/* Toggleable content - dropdown */\n",
       "\n",
       "#sk-container-id-1 div.sk-toggleable__content {\n",
       "  max-height: 0;\n",
       "  max-width: 0;\n",
       "  overflow: hidden;\n",
       "  text-align: left;\n",
       "  /* unfitted */\n",
       "  background-color: var(--sklearn-color-unfitted-level-0);\n",
       "}\n",
       "\n",
       "#sk-container-id-1 div.sk-toggleable__content.fitted {\n",
       "  /* fitted */\n",
       "  background-color: var(--sklearn-color-fitted-level-0);\n",
       "}\n",
       "\n",
       "#sk-container-id-1 div.sk-toggleable__content pre {\n",
       "  margin: 0.2em;\n",
       "  border-radius: 0.25em;\n",
       "  color: var(--sklearn-color-text);\n",
       "  /* unfitted */\n",
       "  background-color: var(--sklearn-color-unfitted-level-0);\n",
       "}\n",
       "\n",
       "#sk-container-id-1 div.sk-toggleable__content.fitted pre {\n",
       "  /* unfitted */\n",
       "  background-color: var(--sklearn-color-fitted-level-0);\n",
       "}\n",
       "\n",
       "#sk-container-id-1 input.sk-toggleable__control:checked~div.sk-toggleable__content {\n",
       "  /* Expand drop-down */\n",
       "  max-height: 200px;\n",
       "  max-width: 100%;\n",
       "  overflow: auto;\n",
       "}\n",
       "\n",
       "#sk-container-id-1 input.sk-toggleable__control:checked~label.sk-toggleable__label-arrow:before {\n",
       "  content: \"▾\";\n",
       "}\n",
       "\n",
       "/* Pipeline/ColumnTransformer-specific style */\n",
       "\n",
       "#sk-container-id-1 div.sk-label input.sk-toggleable__control:checked~label.sk-toggleable__label {\n",
       "  color: var(--sklearn-color-text);\n",
       "  background-color: var(--sklearn-color-unfitted-level-2);\n",
       "}\n",
       "\n",
       "#sk-container-id-1 div.sk-label.fitted input.sk-toggleable__control:checked~label.sk-toggleable__label {\n",
       "  background-color: var(--sklearn-color-fitted-level-2);\n",
       "}\n",
       "\n",
       "/* Estimator-specific style */\n",
       "\n",
       "/* Colorize estimator box */\n",
       "#sk-container-id-1 div.sk-estimator input.sk-toggleable__control:checked~label.sk-toggleable__label {\n",
       "  /* unfitted */\n",
       "  background-color: var(--sklearn-color-unfitted-level-2);\n",
       "}\n",
       "\n",
       "#sk-container-id-1 div.sk-estimator.fitted input.sk-toggleable__control:checked~label.sk-toggleable__label {\n",
       "  /* fitted */\n",
       "  background-color: var(--sklearn-color-fitted-level-2);\n",
       "}\n",
       "\n",
       "#sk-container-id-1 div.sk-label label.sk-toggleable__label,\n",
       "#sk-container-id-1 div.sk-label label {\n",
       "  /* The background is the default theme color */\n",
       "  color: var(--sklearn-color-text-on-default-background);\n",
       "}\n",
       "\n",
       "/* On hover, darken the color of the background */\n",
       "#sk-container-id-1 div.sk-label:hover label.sk-toggleable__label {\n",
       "  color: var(--sklearn-color-text);\n",
       "  background-color: var(--sklearn-color-unfitted-level-2);\n",
       "}\n",
       "\n",
       "/* Label box, darken color on hover, fitted */\n",
       "#sk-container-id-1 div.sk-label.fitted:hover label.sk-toggleable__label.fitted {\n",
       "  color: var(--sklearn-color-text);\n",
       "  background-color: var(--sklearn-color-fitted-level-2);\n",
       "}\n",
       "\n",
       "/* Estimator label */\n",
       "\n",
       "#sk-container-id-1 div.sk-label label {\n",
       "  font-family: monospace;\n",
       "  font-weight: bold;\n",
       "  display: inline-block;\n",
       "  line-height: 1.2em;\n",
       "}\n",
       "\n",
       "#sk-container-id-1 div.sk-label-container {\n",
       "  text-align: center;\n",
       "}\n",
       "\n",
       "/* Estimator-specific */\n",
       "#sk-container-id-1 div.sk-estimator {\n",
       "  font-family: monospace;\n",
       "  border: 1px dotted var(--sklearn-color-border-box);\n",
       "  border-radius: 0.25em;\n",
       "  box-sizing: border-box;\n",
       "  margin-bottom: 0.5em;\n",
       "  /* unfitted */\n",
       "  background-color: var(--sklearn-color-unfitted-level-0);\n",
       "}\n",
       "\n",
       "#sk-container-id-1 div.sk-estimator.fitted {\n",
       "  /* fitted */\n",
       "  background-color: var(--sklearn-color-fitted-level-0);\n",
       "}\n",
       "\n",
       "/* on hover */\n",
       "#sk-container-id-1 div.sk-estimator:hover {\n",
       "  /* unfitted */\n",
       "  background-color: var(--sklearn-color-unfitted-level-2);\n",
       "}\n",
       "\n",
       "#sk-container-id-1 div.sk-estimator.fitted:hover {\n",
       "  /* fitted */\n",
       "  background-color: var(--sklearn-color-fitted-level-2);\n",
       "}\n",
       "\n",
       "/* Specification for estimator info (e.g. \"i\" and \"?\") */\n",
       "\n",
       "/* Common style for \"i\" and \"?\" */\n",
       "\n",
       ".sk-estimator-doc-link,\n",
       "a:link.sk-estimator-doc-link,\n",
       "a:visited.sk-estimator-doc-link {\n",
       "  float: right;\n",
       "  font-size: smaller;\n",
       "  line-height: 1em;\n",
       "  font-family: monospace;\n",
       "  background-color: var(--sklearn-color-background);\n",
       "  border-radius: 1em;\n",
       "  height: 1em;\n",
       "  width: 1em;\n",
       "  text-decoration: none !important;\n",
       "  margin-left: 0.5em;\n",
       "  text-align: center;\n",
       "  /* unfitted */\n",
       "  border: var(--sklearn-color-unfitted-level-1) 1pt solid;\n",
       "  color: var(--sklearn-color-unfitted-level-1);\n",
       "}\n",
       "\n",
       ".sk-estimator-doc-link.fitted,\n",
       "a:link.sk-estimator-doc-link.fitted,\n",
       "a:visited.sk-estimator-doc-link.fitted {\n",
       "  /* fitted */\n",
       "  border: var(--sklearn-color-fitted-level-1) 1pt solid;\n",
       "  color: var(--sklearn-color-fitted-level-1);\n",
       "}\n",
       "\n",
       "/* On hover */\n",
       "div.sk-estimator:hover .sk-estimator-doc-link:hover,\n",
       ".sk-estimator-doc-link:hover,\n",
       "div.sk-label-container:hover .sk-estimator-doc-link:hover,\n",
       ".sk-estimator-doc-link:hover {\n",
       "  /* unfitted */\n",
       "  background-color: var(--sklearn-color-unfitted-level-3);\n",
       "  color: var(--sklearn-color-background);\n",
       "  text-decoration: none;\n",
       "}\n",
       "\n",
       "div.sk-estimator.fitted:hover .sk-estimator-doc-link.fitted:hover,\n",
       ".sk-estimator-doc-link.fitted:hover,\n",
       "div.sk-label-container:hover .sk-estimator-doc-link.fitted:hover,\n",
       ".sk-estimator-doc-link.fitted:hover {\n",
       "  /* fitted */\n",
       "  background-color: var(--sklearn-color-fitted-level-3);\n",
       "  color: var(--sklearn-color-background);\n",
       "  text-decoration: none;\n",
       "}\n",
       "\n",
       "/* Span, style for the box shown on hovering the info icon */\n",
       ".sk-estimator-doc-link span {\n",
       "  display: none;\n",
       "  z-index: 9999;\n",
       "  position: relative;\n",
       "  font-weight: normal;\n",
       "  right: .2ex;\n",
       "  padding: .5ex;\n",
       "  margin: .5ex;\n",
       "  width: min-content;\n",
       "  min-width: 20ex;\n",
       "  max-width: 50ex;\n",
       "  color: var(--sklearn-color-text);\n",
       "  box-shadow: 2pt 2pt 4pt #999;\n",
       "  /* unfitted */\n",
       "  background: var(--sklearn-color-unfitted-level-0);\n",
       "  border: .5pt solid var(--sklearn-color-unfitted-level-3);\n",
       "}\n",
       "\n",
       ".sk-estimator-doc-link.fitted span {\n",
       "  /* fitted */\n",
       "  background: var(--sklearn-color-fitted-level-0);\n",
       "  border: var(--sklearn-color-fitted-level-3);\n",
       "}\n",
       "\n",
       ".sk-estimator-doc-link:hover span {\n",
       "  display: block;\n",
       "}\n",
       "\n",
       "/* \"?\"-specific style due to the `<a>` HTML tag */\n",
       "\n",
       "#sk-container-id-1 a.estimator_doc_link {\n",
       "  float: right;\n",
       "  font-size: 1rem;\n",
       "  line-height: 1em;\n",
       "  font-family: monospace;\n",
       "  background-color: var(--sklearn-color-background);\n",
       "  border-radius: 1rem;\n",
       "  height: 1rem;\n",
       "  width: 1rem;\n",
       "  text-decoration: none;\n",
       "  /* unfitted */\n",
       "  color: var(--sklearn-color-unfitted-level-1);\n",
       "  border: var(--sklearn-color-unfitted-level-1) 1pt solid;\n",
       "}\n",
       "\n",
       "#sk-container-id-1 a.estimator_doc_link.fitted {\n",
       "  /* fitted */\n",
       "  border: var(--sklearn-color-fitted-level-1) 1pt solid;\n",
       "  color: var(--sklearn-color-fitted-level-1);\n",
       "}\n",
       "\n",
       "/* On hover */\n",
       "#sk-container-id-1 a.estimator_doc_link:hover {\n",
       "  /* unfitted */\n",
       "  background-color: var(--sklearn-color-unfitted-level-3);\n",
       "  color: var(--sklearn-color-background);\n",
       "  text-decoration: none;\n",
       "}\n",
       "\n",
       "#sk-container-id-1 a.estimator_doc_link.fitted:hover {\n",
       "  /* fitted */\n",
       "  background-color: var(--sklearn-color-fitted-level-3);\n",
       "}\n",
       "</style><div id=\"sk-container-id-1\" class=\"sk-top-container\"><div class=\"sk-text-repr-fallback\"><pre>DecisionTreeRegressor(max_depth=6, min_samples_leaf=20, random_state=42)</pre><b>In a Jupyter environment, please rerun this cell to show the HTML representation or trust the notebook. <br />On GitHub, the HTML representation is unable to render, please try loading this page with nbviewer.org.</b></div><div class=\"sk-container\" hidden><div class=\"sk-item\"><div class=\"sk-estimator fitted sk-toggleable\"><input class=\"sk-toggleable__control sk-hidden--visually\" id=\"sk-estimator-id-1\" type=\"checkbox\" checked><label for=\"sk-estimator-id-1\" class=\"sk-toggleable__label fitted sk-toggleable__label-arrow\"><div><div>DecisionTreeRegressor</div></div><div><a class=\"sk-estimator-doc-link fitted\" rel=\"noreferrer\" target=\"_blank\" href=\"https://scikit-learn.org/1.6/modules/generated/sklearn.tree.DecisionTreeRegressor.html\">?<span>Documentation for DecisionTreeRegressor</span></a><span class=\"sk-estimator-doc-link fitted\">i<span>Fitted</span></span></div></label><div class=\"sk-toggleable__content fitted\"><pre>DecisionTreeRegressor(max_depth=6, min_samples_leaf=20, random_state=42)</pre></div> </div></div></div></div>"
      ],
      "text/plain": [
       "DecisionTreeRegressor(max_depth=6, min_samples_leaf=20, random_state=42)"
      ]
     },
     "execution_count": 64,
     "metadata": {},
     "output_type": "execute_result"
    }
   ],
   "source": [
    "# 3. Entrenar el árbol de regresión\n",
    "# Puedes ajustar max_depth, min_samples_leaf, etc. para mejorar desempeño\n",
    "tree_reg = DecisionTreeRegressor(max_depth=6, min_samples_leaf=20, random_state=42)\n",
    "tree_reg.fit(X_train, y_train)"
   ]
  },
  {
   "cell_type": "code",
   "execution_count": null,
   "metadata": {},
   "outputs": [],
   "source": [
    "# 4. Predecir sobre el conjunto de validación\n",
    "y_pred = tree_reg.predict(X_val)"
   ]
  },
  {
   "cell_type": "code",
   "execution_count": 67,
   "metadata": {},
   "outputs": [
    {
     "name": "stdout",
     "output_type": "stream",
     "text": [
      "Desempeño del Árbol de Decisión (Regresión)\n",
      "RMSE (Raíz del error cuadrático medio): 118.53\n",
      "MAE (Error absoluto medio):            80.54\n",
      "R² (Coeficiente de determinación):     0.568\n"
     ]
    }
   ],
   "source": [
    "# 5. Métricas de desempeño\n",
    "rmse = np.sqrt(mean_squared_error(y_val, y_pred))\n",
    "mae = mean_absolute_error(y_val, y_pred)\n",
    "r2 = r2_score(y_val, y_pred)\n",
    "\n",
    "print(\"Desempeño del Árbol de Decisión (Regresión)\")\n",
    "print(f\"RMSE (Raíz del error cuadrático medio): {rmse:.2f}\")\n",
    "print(f\"MAE (Error absoluto medio):            {mae:.2f}\")\n",
    "print(f\"R² (Coeficiente de determinación):     {r2:.3f}\")"
   ]
  },
  {
   "cell_type": "markdown",
   "metadata": {},
   "source": [
    "### Analisis\n",
    "Estas métricas indican que el modelo tiene una capacidad razonable para predecir la cantidad de bicicletas rentadas. En particular, el R² de 0.568 sugiere que el árbol de decisión logra explicar aproximadamente el 56.8% de la variabilidad en los datos, lo cual es un desempeño considerablemente bueno para un modelo con solo dos variables.\n",
    "\n",
    "#### Comparacion de modelo punto 3 (RL) y punto 5 (Arbol de decision)\n",
    "- **Regresión lineal (Punto 3):** R2=0.223-->Captura únicamente relaciones lineales entre las variables. No detecta picos horarios ni interacciones complejas.\n",
    "- **Árbol de decisión (Punto 5):**\tR2=0.568-->Captura relaciones no lineales, umbrales y patrones horarios complejos de forma mucho más precisa.\n",
    "\n",
    "### Conclusion\n",
    "El modelo de árbol de decisión muestra un desempeño claramente superior al de la regresión lineal. Esto se debe a su capacidad para identificar relaciones no lineales y segmentar el espacio de decisiones en función de umbrales en hour y season. Dado el comportamiento bimodal y estacional de los datos de alquiler de bicicletas, el árbol se adapta mejor a la naturaleza del problema, logrando más del doble de poder explicativo (R²) que la regresión lineal."
   ]
  },
  {
   "cell_type": "markdown",
   "metadata": {},
   "source": [
    "## Parte B - Métodos de ensamblajes\n",
    "En esta parte del taller se usará el conjunto de datos de Popularidad de Noticias Online. El objetivo es predecir si la notica es popular o no, la popularidad está dada por la cantidad de reacciones en redes sociales. Para más detalles puede visitar el siguiente enlace: [datos](https://archive.ics.uci.edu/ml/datasets/online+news+popularity)."
   ]
  },
  {
   "cell_type": "markdown",
   "metadata": {},
   "source": [
    "### Datos popularidad de noticias"
   ]
  },
  {
   "cell_type": "code",
   "execution_count": 68,
   "metadata": {},
   "outputs": [
    {
     "data": {
      "text/html": [
       "<div>\n",
       "<style scoped>\n",
       "    .dataframe tbody tr th:only-of-type {\n",
       "        vertical-align: middle;\n",
       "    }\n",
       "\n",
       "    .dataframe tbody tr th {\n",
       "        vertical-align: top;\n",
       "    }\n",
       "\n",
       "    .dataframe thead th {\n",
       "        text-align: right;\n",
       "    }\n",
       "</style>\n",
       "<table border=\"1\" class=\"dataframe\">\n",
       "  <thead>\n",
       "    <tr style=\"text-align: right;\">\n",
       "      <th></th>\n",
       "      <th>url</th>\n",
       "      <th>timedelta</th>\n",
       "      <th>n_tokens_title</th>\n",
       "      <th>n_tokens_content</th>\n",
       "      <th>n_unique_tokens</th>\n",
       "      <th>n_non_stop_words</th>\n",
       "      <th>n_non_stop_unique_tokens</th>\n",
       "      <th>num_hrefs</th>\n",
       "      <th>num_self_hrefs</th>\n",
       "      <th>num_imgs</th>\n",
       "      <th>...</th>\n",
       "      <th>min_positive_polarity</th>\n",
       "      <th>max_positive_polarity</th>\n",
       "      <th>avg_negative_polarity</th>\n",
       "      <th>min_negative_polarity</th>\n",
       "      <th>max_negative_polarity</th>\n",
       "      <th>title_subjectivity</th>\n",
       "      <th>title_sentiment_polarity</th>\n",
       "      <th>abs_title_subjectivity</th>\n",
       "      <th>abs_title_sentiment_polarity</th>\n",
       "      <th>Popular</th>\n",
       "    </tr>\n",
       "  </thead>\n",
       "  <tbody>\n",
       "    <tr>\n",
       "      <th>0</th>\n",
       "      <td>http://mashable.com/2014/12/10/cia-torture-rep...</td>\n",
       "      <td>28.0</td>\n",
       "      <td>9.0</td>\n",
       "      <td>188.0</td>\n",
       "      <td>0.732620</td>\n",
       "      <td>1.0</td>\n",
       "      <td>0.844262</td>\n",
       "      <td>5.0</td>\n",
       "      <td>1.0</td>\n",
       "      <td>1.0</td>\n",
       "      <td>...</td>\n",
       "      <td>0.200000</td>\n",
       "      <td>0.80</td>\n",
       "      <td>-0.487500</td>\n",
       "      <td>-0.60</td>\n",
       "      <td>-0.250000</td>\n",
       "      <td>0.9</td>\n",
       "      <td>0.8</td>\n",
       "      <td>0.4</td>\n",
       "      <td>0.8</td>\n",
       "      <td>1</td>\n",
       "    </tr>\n",
       "    <tr>\n",
       "      <th>1</th>\n",
       "      <td>http://mashable.com/2013/10/18/bitlock-kicksta...</td>\n",
       "      <td>447.0</td>\n",
       "      <td>7.0</td>\n",
       "      <td>297.0</td>\n",
       "      <td>0.653199</td>\n",
       "      <td>1.0</td>\n",
       "      <td>0.815789</td>\n",
       "      <td>9.0</td>\n",
       "      <td>4.0</td>\n",
       "      <td>1.0</td>\n",
       "      <td>...</td>\n",
       "      <td>0.160000</td>\n",
       "      <td>0.50</td>\n",
       "      <td>-0.135340</td>\n",
       "      <td>-0.40</td>\n",
       "      <td>-0.050000</td>\n",
       "      <td>0.1</td>\n",
       "      <td>-0.1</td>\n",
       "      <td>0.4</td>\n",
       "      <td>0.1</td>\n",
       "      <td>0</td>\n",
       "    </tr>\n",
       "    <tr>\n",
       "      <th>2</th>\n",
       "      <td>http://mashable.com/2013/07/24/google-glass-po...</td>\n",
       "      <td>533.0</td>\n",
       "      <td>11.0</td>\n",
       "      <td>181.0</td>\n",
       "      <td>0.660377</td>\n",
       "      <td>1.0</td>\n",
       "      <td>0.775701</td>\n",
       "      <td>4.0</td>\n",
       "      <td>3.0</td>\n",
       "      <td>1.0</td>\n",
       "      <td>...</td>\n",
       "      <td>0.136364</td>\n",
       "      <td>1.00</td>\n",
       "      <td>0.000000</td>\n",
       "      <td>0.00</td>\n",
       "      <td>0.000000</td>\n",
       "      <td>0.3</td>\n",
       "      <td>1.0</td>\n",
       "      <td>0.2</td>\n",
       "      <td>1.0</td>\n",
       "      <td>0</td>\n",
       "    </tr>\n",
       "    <tr>\n",
       "      <th>3</th>\n",
       "      <td>http://mashable.com/2013/11/21/these-are-the-m...</td>\n",
       "      <td>413.0</td>\n",
       "      <td>12.0</td>\n",
       "      <td>781.0</td>\n",
       "      <td>0.497409</td>\n",
       "      <td>1.0</td>\n",
       "      <td>0.677350</td>\n",
       "      <td>10.0</td>\n",
       "      <td>3.0</td>\n",
       "      <td>1.0</td>\n",
       "      <td>...</td>\n",
       "      <td>0.100000</td>\n",
       "      <td>1.00</td>\n",
       "      <td>-0.195701</td>\n",
       "      <td>-0.40</td>\n",
       "      <td>-0.071429</td>\n",
       "      <td>0.0</td>\n",
       "      <td>0.0</td>\n",
       "      <td>0.5</td>\n",
       "      <td>0.0</td>\n",
       "      <td>0</td>\n",
       "    </tr>\n",
       "    <tr>\n",
       "      <th>4</th>\n",
       "      <td>http://mashable.com/2014/02/11/parking-ticket-...</td>\n",
       "      <td>331.0</td>\n",
       "      <td>8.0</td>\n",
       "      <td>177.0</td>\n",
       "      <td>0.685714</td>\n",
       "      <td>1.0</td>\n",
       "      <td>0.830357</td>\n",
       "      <td>3.0</td>\n",
       "      <td>2.0</td>\n",
       "      <td>1.0</td>\n",
       "      <td>...</td>\n",
       "      <td>0.100000</td>\n",
       "      <td>0.55</td>\n",
       "      <td>-0.175000</td>\n",
       "      <td>-0.25</td>\n",
       "      <td>-0.100000</td>\n",
       "      <td>0.0</td>\n",
       "      <td>0.0</td>\n",
       "      <td>0.5</td>\n",
       "      <td>0.0</td>\n",
       "      <td>0</td>\n",
       "    </tr>\n",
       "  </tbody>\n",
       "</table>\n",
       "<p>5 rows × 61 columns</p>\n",
       "</div>"
      ],
      "text/plain": [
       "                                                 url  timedelta  \\\n",
       "0  http://mashable.com/2014/12/10/cia-torture-rep...       28.0   \n",
       "1  http://mashable.com/2013/10/18/bitlock-kicksta...      447.0   \n",
       "2  http://mashable.com/2013/07/24/google-glass-po...      533.0   \n",
       "3  http://mashable.com/2013/11/21/these-are-the-m...      413.0   \n",
       "4  http://mashable.com/2014/02/11/parking-ticket-...      331.0   \n",
       "\n",
       "   n_tokens_title  n_tokens_content  n_unique_tokens  n_non_stop_words  \\\n",
       "0             9.0             188.0         0.732620               1.0   \n",
       "1             7.0             297.0         0.653199               1.0   \n",
       "2            11.0             181.0         0.660377               1.0   \n",
       "3            12.0             781.0         0.497409               1.0   \n",
       "4             8.0             177.0         0.685714               1.0   \n",
       "\n",
       "   n_non_stop_unique_tokens  num_hrefs  num_self_hrefs  num_imgs  ...  \\\n",
       "0                  0.844262        5.0             1.0       1.0  ...   \n",
       "1                  0.815789        9.0             4.0       1.0  ...   \n",
       "2                  0.775701        4.0             3.0       1.0  ...   \n",
       "3                  0.677350       10.0             3.0       1.0  ...   \n",
       "4                  0.830357        3.0             2.0       1.0  ...   \n",
       "\n",
       "   min_positive_polarity  max_positive_polarity  avg_negative_polarity  \\\n",
       "0               0.200000                   0.80              -0.487500   \n",
       "1               0.160000                   0.50              -0.135340   \n",
       "2               0.136364                   1.00               0.000000   \n",
       "3               0.100000                   1.00              -0.195701   \n",
       "4               0.100000                   0.55              -0.175000   \n",
       "\n",
       "   min_negative_polarity  max_negative_polarity  title_subjectivity  \\\n",
       "0                  -0.60              -0.250000                 0.9   \n",
       "1                  -0.40              -0.050000                 0.1   \n",
       "2                   0.00               0.000000                 0.3   \n",
       "3                  -0.40              -0.071429                 0.0   \n",
       "4                  -0.25              -0.100000                 0.0   \n",
       "\n",
       "   title_sentiment_polarity  abs_title_subjectivity  \\\n",
       "0                       0.8                     0.4   \n",
       "1                      -0.1                     0.4   \n",
       "2                       1.0                     0.2   \n",
       "3                       0.0                     0.5   \n",
       "4                       0.0                     0.5   \n",
       "\n",
       "   abs_title_sentiment_polarity  Popular  \n",
       "0                           0.8        1  \n",
       "1                           0.1        0  \n",
       "2                           1.0        0  \n",
       "3                           0.0        0  \n",
       "4                           0.0        0  \n",
       "\n",
       "[5 rows x 61 columns]"
      ]
     },
     "execution_count": 68,
     "metadata": {},
     "output_type": "execute_result"
    }
   ],
   "source": [
    "# Lectura de la información de archivo .csv\n",
    "df = pd.read_csv('https://raw.githubusercontent.com/davidzarruk/MIAD_ML_NLP_2023/main/datasets/mashable.csv', index_col=0)\n",
    "df.head()"
   ]
  },
  {
   "cell_type": "code",
   "execution_count": 69,
   "metadata": {},
   "outputs": [
    {
     "data": {
      "text/plain": [
       "np.float64(0.5)"
      ]
     },
     "execution_count": 69,
     "metadata": {},
     "output_type": "execute_result"
    }
   ],
   "source": [
    "# Definición variable de interes y variables predictoras\n",
    "X = df.drop(['url', 'Popular'], axis=1)\n",
    "y = df['Popular']\n",
    "y.mean()"
   ]
  },
  {
   "cell_type": "code",
   "execution_count": 70,
   "metadata": {},
   "outputs": [],
   "source": [
    "# División de la muestra en set de entrenamiento y prueba\n",
    "from sklearn.model_selection import train_test_split\n",
    "X_train, X_test, y_train, y_test = train_test_split(X, y, random_state=1)"
   ]
  },
  {
   "cell_type": "markdown",
   "metadata": {},
   "source": [
    "### Punto 6 - Árbol de decisión y regresión logística\n",
    "En la celda 6 construya un árbol de decisión y una regresión logística. Para el árbol calibre al menos un parámetro y evalúe el desempeño de cada modelo usando las métricas de Accuracy y F1-Score."
   ]
  },
  {
   "cell_type": "code",
   "execution_count": 74,
   "metadata": {},
   "outputs": [
    {
     "name": "stdout",
     "output_type": "stream",
     "text": [
      "Árbol de Decisión\n",
      "Accuracy:  0.6513\n",
      "F1-Score:  0.6345\n",
      "\n",
      "Regresión Logística\n",
      "Accuracy:  0.6393\n",
      "F1-Score:  0.6292\n"
     ]
    }
   ],
   "source": [
    "# Celda 6\n",
    "# Definir rango de valores para max_depth\n",
    "param_grid = {\n",
    "    'max_depth': [3, 4, 5, 6, 7, 8],\n",
    "    'min_samples_leaf': [1, 5, 10]\n",
    "}\n",
    "\n",
    "# Búsqueda en cuadrícula con validación cruzada\n",
    "grid_tree = GridSearchCV(DecisionTreeClassifier(random_state=1),\n",
    "                         param_grid,\n",
    "                         scoring='f1',\n",
    "                         cv=5)\n",
    "grid_tree.fit(X_train, y_train)\n",
    "\n",
    "# Mejor modelo\n",
    "best_tree = grid_tree.best_estimator_\n",
    "y_pred_tree = best_tree.predict(X_test)\n",
    "\n",
    "# Métricas\n",
    "acc_tree = accuracy_score(y_test, y_pred_tree)\n",
    "f1_tree = f1_score(y_test, y_pred_tree)\n",
    "\n",
    "\n",
    "# Regresión Logística con escalamiento previo\n",
    "log_model = make_pipeline(StandardScaler(), LogisticRegression(max_iter=1000, random_state=1))\n",
    "log_model.fit(X_train, y_train)\n",
    "y_pred_log = log_model.predict(X_test)\n",
    "\n",
    "# Métricas para el árbol\n",
    "acc_tree = accuracy_score(y_test, y_pred_tree)\n",
    "f1_tree = f1_score(y_test, y_pred_tree)\n",
    "\n",
    "# Métricas para la regresión logística\n",
    "acc_log = accuracy_score(y_test, y_pred_log)\n",
    "f1_log = f1_score(y_test, y_pred_log)\n",
    "\n",
    "# Resultados\n",
    "print(\"Árbol de Decisión\")\n",
    "print(f\"Accuracy:  {acc_tree:.4f}\")\n",
    "print(f\"F1-Score:  {f1_tree:.4f}\")\n",
    "\n",
    "print(\"\\nRegresión Logística\")\n",
    "print(f\"Accuracy:  {acc_log:.4f}\")\n",
    "print(f\"F1-Score:  {f1_log:.4f}\")\n"
   ]
  },
  {
   "cell_type": "markdown",
   "metadata": {},
   "source": [
    "### Conclusion\n",
    "Ambos modelos presentan un desempeño similar en la tarea de clasificar si una noticia es popular o no. Sin embargo, el árbol de decisión supera ligeramente a la regresión logística tanto en accuracy (65.13% vs. 63.93%) como en F1-score (0.6345 vs. 0.6292)."
   ]
  },
  {
   "cell_type": "markdown",
   "metadata": {},
   "source": [
    "### Punto 7 - Votación Mayoritaria\n",
    "En la celda 7 elabore un esamble con la metodología de **Votación mayoritaria** compuesto por 300 muestras bagged donde:\n",
    "\n",
    "-las primeras 100 muestras vienen de árboles de decisión donde max_depth tome un valor de su elección\\\n",
    "-las segundas 100 muestras vienen de árboles de decisión donde min_samples_leaf tome un valor de su elección\\\n",
    "-las últimas 100 muestras vienen de regresiones logísticas\n",
    "\n",
    "Evalúe cada uno de los tres modelos de manera independiente utilizando las métricas de Accuracy y F1-Score, luego evalúe el ensamble de modelos y compare los resultados. \n",
    "\n",
    "Nota: \n",
    "\n",
    "Para este ensamble de 300 modelos, deben hacer votación mayoritaria. Esto lo pueden hacer de distintas maneras. La más \"fácil\" es haciendo la votación \"manualmente\", como se hace a partir del minuto 5:45 del video de Ejemplo práctico de emsablajes en Coursera. Digo que es la más fácil porque si hacen la votación mayoritaria sobre las 300 predicciones van a obtener lo que se espera.\n",
    "\n",
    "Otra opción es: para cada uno de los 3 tipos de modelos, entrenar un ensamble de 100 modelos cada uno. Predecir para cada uno de esos tres ensambles y luego predecir como un ensamble de los 3 ensambles. La cuestión es que la votación mayoritaria al usar los 3 ensambles no necesariamente va a generar el mismo resultado que si hacen la votación mayoritaria directamente sobre los 300 modelos. Entonces, para los que quieran hacer esto, deben hacer ese último cálculo con cuidado.\n",
    "\n",
    "Para los que quieran hacerlo como ensamble de ensambles, digo que se debe hacer el ensamble final con cuidado por lo siguiente. Supongamos que:\n",
    "\n",
    "* para los 100 árboles del primer tipo, la votación mayoritaria es: 55% de los modelos predicen que la clase de una observación es \"1\"\n",
    "* para los 100 árboles del segundo tipo, la votación mayoritaria es: 55% de los modelos predicen que la clase de una observación es \"1\"\n",
    "* para las 100 regresiones logísticas, la votación mayoritaria es: 10% de los modelos predicen que la clase de una observación es \"1\"\n",
    "\n",
    "Si se hace la votación mayoritaria de los 300 modelos, la predicción de esa observación debería ser: (100*55%+100*55%+100*10%)/300 = 40% de los modelos votan porque la predicción debería ser \"1\". Es decir, la predicción del ensamble es \"0\" (dado que menos del 50% de modelos predijo un 1).\n",
    "\n",
    "Sin embargo, si miramos cada ensamble por separado, el primer ensamble predice \"1\", el segundo ensamble predice \"1\" y el último ensamble predice \"0\". Si hago votación mayoritaria sobre esto, la predicción va a ser \"1\", lo cual es distinto a si se hace la votación mayoritaria sobre los 300 modelos."
   ]
  },
  {
   "cell_type": "code",
   "execution_count": 76,
   "metadata": {},
   "outputs": [],
   "source": [
    "# Celda 7\n",
    "# Definir parámetros\n",
    "n_models = 100\n",
    "max_depth_value = 5\n",
    "min_samples_leaf_value = 10\n",
    "\n",
    "# Crear listas para almacenar predicciones\n",
    "preds_tree_depth = []\n",
    "preds_tree_leaf = []\n",
    "preds_logreg = []"
   ]
  },
  {
   "cell_type": "code",
   "execution_count": 77,
   "metadata": {},
   "outputs": [],
   "source": [
    "# 1. Árboles con max_depth\n",
    "for i in range(n_models):\n",
    "    X_res, y_res = resample(X_train, y_train, random_state=i)\n",
    "    model = DecisionTreeClassifier(max_depth=max_depth_value, random_state=i)\n",
    "    model.fit(X_res, y_res)\n",
    "    preds = model.predict(X_test)\n",
    "    preds_tree_depth.append(preds)\n"
   ]
  },
  {
   "cell_type": "code",
   "execution_count": 78,
   "metadata": {},
   "outputs": [],
   "source": [
    "# 2. Árboles con min_samples_leaf\n",
    "for i in range(n_models):\n",
    "    X_res, y_res = resample(X_train, y_train, random_state=100+i)\n",
    "    model = DecisionTreeClassifier(min_samples_leaf=min_samples_leaf_value, random_state=100+i)\n",
    "    model.fit(X_res, y_res)\n",
    "    preds = model.predict(X_test)\n",
    "    preds_tree_leaf.append(preds)"
   ]
  },
  {
   "cell_type": "code",
   "execution_count": 79,
   "metadata": {},
   "outputs": [],
   "source": [
    "# 3. Regresiones logísticas\n",
    "for i in range(n_models):\n",
    "    X_res, y_res = resample(X_train, y_train, random_state=200+i)\n",
    "    model = make_pipeline(StandardScaler(), LogisticRegression(max_iter=1000, random_state=200+i))\n",
    "    model.fit(X_res, y_res)\n",
    "    preds = model.predict(X_test)\n",
    "    preds_logreg.append(preds)"
   ]
  },
  {
   "cell_type": "code",
   "execution_count": 80,
   "metadata": {},
   "outputs": [],
   "source": [
    "# Convertir a arrays para votación\n",
    "preds_tree_depth = np.array(preds_tree_depth)\n",
    "preds_tree_leaf = np.array(preds_tree_leaf)\n",
    "preds_logreg = np.array(preds_logreg)"
   ]
  },
  {
   "cell_type": "code",
   "execution_count": 81,
   "metadata": {},
   "outputs": [],
   "source": [
    "# Votación mayoritaria por grupo\n",
    "# Promedio de votos por muestra, luego redondeo a 0 o 1\n",
    "vote_depth = np.round(np.mean(preds_tree_depth, axis=0)).astype(int)\n",
    "vote_leaf = np.round(np.mean(preds_tree_leaf, axis=0)).astype(int)\n",
    "vote_logreg = np.round(np.mean(preds_logreg, axis=0)).astype(int)\n"
   ]
  },
  {
   "cell_type": "code",
   "execution_count": 82,
   "metadata": {},
   "outputs": [
    {
     "name": "stdout",
     "output_type": "stream",
     "text": [
      "Árboles max_depth\n",
      "Accuracy:  0.6500\n",
      "F1-Score:  0.6465\n",
      "\n",
      "Árboles min_samples_leaf\n",
      "Accuracy:  0.6487\n",
      "F1-Score:  0.6383\n",
      "\n",
      "Regresiones Logísticas\n",
      "Accuracy:  0.6407\n",
      "F1-Score:  0.6306\n"
     ]
    }
   ],
   "source": [
    "# Métricas individuales por grupo\n",
    "print(\"Árboles max_depth\")\n",
    "print(f\"Accuracy:  {accuracy_score(y_test, vote_depth):.4f}\")\n",
    "print(f\"F1-Score:  {f1_score(y_test, vote_depth):.4f}\")\n",
    "\n",
    "print(\"\\nÁrboles min_samples_leaf\")\n",
    "print(f\"Accuracy:  {accuracy_score(y_test, vote_leaf):.4f}\")\n",
    "print(f\"F1-Score:  {f1_score(y_test, vote_leaf):.4f}\")\n",
    "\n",
    "print(\"\\nRegresiones Logísticas\")\n",
    "print(f\"Accuracy:  {accuracy_score(y_test, vote_logreg):.4f}\")\n",
    "print(f\"F1-Score:  {f1_score(y_test, vote_logreg):.4f}\")\n"
   ]
  },
  {
   "cell_type": "code",
   "execution_count": 86,
   "metadata": {},
   "outputs": [
    {
     "name": "stdout",
     "output_type": "stream",
     "text": [
      "Ensamble por Votación Mayoritaria (300 modelos)\n",
      "Accuracy:  0.6520\n",
      "F1-Score:  0.6449\n"
     ]
    }
   ],
   "source": [
    "# 1. Concatenar todas las predicciones en un DataFrame (300 columnas: 100+100+100 modelos)\n",
    "y_pred_df = pd.DataFrame(\n",
    "    np.concatenate([preds_tree_depth, preds_tree_leaf, preds_logreg], axis=0).T  # Transponer para tener filas = muestras\n",
    ")\n",
    "\n",
    "# 2. Votación mayoritaria: al menos la mitad predice 1 → se predice 1\n",
    "n_estimators = y_pred_df.shape[1]  # = 300\n",
    "y_pred = (y_pred_df.sum(axis=1) >= (n_estimators / 2)).astype(np.int64)\n",
    "\n",
    "# 3. Evaluación del ensamble\n",
    "accuracy = metrics.accuracy_score(y_test, y_pred)\n",
    "f1 = metrics.f1_score(y_test, y_pred)\n",
    "\n",
    "print(\"Ensamble por Votación Mayoritaria (300 modelos)\")\n",
    "print(f\"Accuracy:  {accuracy:.4f}\")\n",
    "print(f\"F1-Score:  {f1:.4f}\")"
   ]
  },
  {
   "cell_type": "markdown",
   "metadata": {},
   "source": [
    "### Conclusiones\n",
    "1. El ensamble supera a las regresiones logísticas y a los árboles calibrados por min_samples_leaf, tanto en Accuracy como en F1-score.\n",
    "2. Aunque no mejora significativamente sobre los árboles con max_depth=5, el desempeño del ensamble es muy competitivo y más robusto.\n",
    "3. El F1-score del ensamble (0.6449) se acerca al mejor resultado individual (0.6465), lo que indica que la votación mayoritaria logró un equilibrio sólido entre precisión y sensibilidad."
   ]
  },
  {
   "cell_type": "markdown",
   "metadata": {},
   "source": [
    "### Punto 8 - Votación Ponderada\n",
    "En la celda 8 elabore un ensamble con la metodología de **Votación ponderada** compuesto por 300 muestras bagged para los mismos tres escenarios del punto 7. Evalúe los modelos utilizando las métricas de Accuracy y F1-Score"
   ]
  },
  {
   "cell_type": "code",
   "execution_count": 87,
   "metadata": {},
   "outputs": [],
   "source": [
    "# Celda 8\n",
    "# Unificar todas las predicciones de los 300 modelos\n",
    "# Shape: (n_samples, 300)\n",
    "y_pred_all_ = np.concatenate([preds_tree_depth, preds_tree_leaf, preds_logreg], axis=0).T"
   ]
  },
  {
   "cell_type": "code",
   "execution_count": 88,
   "metadata": {},
   "outputs": [],
   "source": [
    "# Simulación de errores OOB por modelo\n",
    "# Para cada modelo, usamos su accuracy como peso (a falta de OOB real)\n",
    "errors = []\n",
    "\n",
    "for i, group in enumerate([preds_tree_depth, preds_tree_leaf, preds_logreg]):\n",
    "    for j in range(group.shape[0]):\n",
    "        # Simulamos que cada modelo tiene un desempeño individual conocido en test\n",
    "        acc = accuracy_score(y_test, group[j])\n",
    "        errors.append(acc)\n",
    "\n",
    "errors = np.array(errors)  # Shape: (300,)\n"
   ]
  },
  {
   "cell_type": "code",
   "execution_count": 89,
   "metadata": {},
   "outputs": [],
   "source": [
    "# Calcular pesos alpha (1 - error) / sum(1 - error)\n",
    "alpha = (1 - (1 - errors))  # = errors\n",
    "alpha = alpha / alpha.sum()"
   ]
  },
  {
   "cell_type": "code",
   "execution_count": 90,
   "metadata": {},
   "outputs": [],
   "source": [
    "# Cada predicción se pondera por su alpha (peso)\n",
    "voto_ponderado = np.dot(y_pred_all_, alpha)\n",
    "y_pred_ponderado = (voto_ponderado >= 0.5).astype(int)"
   ]
  },
  {
   "cell_type": "code",
   "execution_count": 92,
   "metadata": {},
   "outputs": [
    {
     "name": "stdout",
     "output_type": "stream",
     "text": [
      "Ensamble por Votación Ponderada (300 modelos)\n",
      "F1-Score:  0.6439\n",
      "Accuracy:  0.6520\n"
     ]
    }
   ],
   "source": [
    "# Evaluar el ensamble ponderado\n",
    "f1_p = f1_score(y_test, y_pred_ponderado)\n",
    "acc_p = accuracy_score(y_test, y_pred_ponderado)\n",
    "\n",
    "print(\"Ensamble por Votación Ponderada (300 modelos)\")\n",
    "print(f\"F1-Score:  {f1_p:.4f}\")\n",
    "print(f\"Accuracy:  {acc_p:.4f}\")"
   ]
  },
  {
   "cell_type": "markdown",
   "metadata": {},
   "source": [
    "### Conclusiones\n",
    "- El accuracy del 65.20% indica que el modelo acierta en aproximadamente dos de cada tres predicciones, lo cual es aceptable considerando la naturaleza binaria del problema y la variabilidad en los datos.\n",
    "- El F1-score de 0.6439 refleja un buen equilibrio entre precisión y sensibilidad. Es una métrica especialmente relevante cuando hay desbalance en las clases o cuando los falsos negativos y positivos tienen un costo similar."
   ]
  },
  {
   "cell_type": "markdown",
   "metadata": {},
   "source": [
    "### Punto 9 - Comparación y análisis de resultados\n",
    "En la celda 9 comente sobre los resultados obtenidos con las metodologías usadas en los puntos 7 y 8, compare los resultados y enuncie posibles ventajas o desventajas de cada una de ellas."
   ]
  },
  {
   "cell_type": "markdown",
   "metadata": {},
   "source": [
    "### Conclusiones\n",
    "#### Resultados\n",
    "1. **Votación mayoritaria**\n",
    "    - Accuracy: 0.6520\t\n",
    "    - F1-Score:0.6449\n",
    "2. **Votación ponderada**\n",
    "    - Accuracy: 0.6520\t\n",
    "    - F1-Score:0.6439\n",
    "\n",
    "#### Analisis\n",
    "1. Ambos métodos obtuvieron el mismo nivel de Accuracy (65.20%), lo que sugiere que la tasa de aciertos generales fue idéntica.\n",
    "2. En términos de F1-score, que evalúa el balance entre precisión y recall, la votación mayoritaria presentó una ligera ventaja (0.6449 vs. 0.6439). Aunque la diferencia es pequeña, indica que la mayoría simple logró una clasificación ligeramente más balanceada.\n",
    "3. Esta cercanía entre los resultados refleja que los modelos individuales (árboles y regresiones) tienen un desempeño similar entre sí, por lo cual ponderarlos según su rendimiento individual no produce un impacto significativo.\n",
    "\n",
    "#### Ventajas y desventajas Votación mayoritaria:\n",
    "- Ventajas: \n",
    "    - Simple de implementar\n",
    "    - Robusto cuando los modelos base son similares\n",
    "- Desventajas:\n",
    "    - No distingue entre modelos más o menos competentes\n",
    "\n",
    "#### Ventajas y desventajas Votación ponderada:\n",
    "- Vnetajas: \n",
    "    - Considera el rendimiento individual de cada modelo\n",
    "    - Potencialmente más preciso si hay gran variabilidad entre modelos\n",
    "- Desventajas:\n",
    "    - Más complejo de implementar\n",
    "    - Puede no aportar mejora si los modelos base son homogéneos"
   ]
  }
 ],
 "metadata": {
  "kernelspec": {
   "display_name": "ml_nlp_env",
   "language": "python",
   "name": "python3"
  },
  "language_info": {
   "codemirror_mode": {
    "name": "ipython",
    "version": 3
   },
   "file_extension": ".py",
   "mimetype": "text/x-python",
   "name": "python",
   "nbconvert_exporter": "python",
   "pygments_lexer": "ipython3",
   "version": "3.9.21"
  }
 },
 "nbformat": 4,
 "nbformat_minor": 4
}
